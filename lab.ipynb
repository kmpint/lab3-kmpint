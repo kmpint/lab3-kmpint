{
 "cells": [
  {
   "cell_type": "markdown",
   "id": "97c00b10-5edd-45d0-83ab-83693c41f056",
   "metadata": {},
   "source": [
    "# Overview\n",
    "\n",
    "The goal of this lab is to familiarize yourself with standard data wrangling tasks using Python. Being able to do so will greatly facilitate any work you do from here onward. After this lab, you should be comfortable enough in a Pythonic data environment that we can begin using a variety of packages to analyze and visualize different kinds of data more freely."
   ]
  },
  {
   "cell_type": "markdown",
   "id": "b3ab0720-e222-4bb1-99ff-eefe33739553",
   "metadata": {},
   "source": [
    "# Setting up\n",
    "\n",
    "If you aren't already viewing these instructions from within Jupyterlab, then clone the current repository to your computer and open this document from inside Jupyter lab.\n",
    "\n",
    "Reminder: To set up your workspace, there are several steps you should consider which we went over in previous labs...\n",
    "\n",
    "Once you are happy with your setup, navigate to the repository you cloned and install the packages listed in the provided *requirements.txt* file:\n",
    "- `pip install -r requirements.txt`. These packages include Jupyter Lab and Pandas, as well as their dependancies."
   ]
  },
  {
   "cell_type": "markdown",
   "id": "703724bc-177c-4915-bc7e-e3e905d5c039",
   "metadata": {
    "tags": []
   },
   "source": [
    "# Your second (and last) week as a data specialist at Amtrak\n",
    "\n",
    "Your supervisor at Amtrak has handed over more \"information\". This time, it's a few poorly formatted tables stored as *.txt*: the most standard of file formats. They want a basic map, and since Amtrak is *finally* trying to enter the digital age with all this new federal funding, they want this map to create itself with the click of a button (in this case, by running all code cells in this notebook). Like last week, you assume there will be more data coming your way in this format, so you will need to come up with an automated process that imports it, parses it, and does any subesquent operations that are necessary in order to finally prep it for the mapping intern. In other words, you need to write a program that takes data of a certain format as input, and generates clean data as an output."
   ]
  },
  {
   "cell_type": "markdown",
   "id": "eb3afb7b-6828-495e-acb9-68d98fd16659",
   "metadata": {},
   "source": [
    "## Importing packages\n",
    "\n",
    "At the start of any Python script (or Jupyter notebook running Python) you will usually want to import packages so that their functionality is available to the rest of your code. One of Python's great strengths is the quality of its 3rd party packages, which can provide functionality for doing anything from video editing to running a web server to... managing data! In this session, we would like to import the pandas package. Pandas allows us to manipulate data stored in pandas dataframes, and forms the bedrock of most standard data analysis done with Python today. Familiarity with other basic data management software (e.g. Excel) will serve you well here."
   ]
  },
  {
   "cell_type": "code",
   "execution_count": 1,
   "id": "4b2f5984-e861-4381-b6dc-60b3e20ef2b7",
   "metadata": {},
   "outputs": [],
   "source": [
    "#the below command imports pandas\n",
    "import pandas\n",
    "\n",
    "#when importing a package, you can give it the alias of your choice by appending 'as' followed by your alias.\n",
    "#doing so can make it more practical for you to refer to the package in your code, especially if the package were to have a really long name...\n",
    "import pandas as pd\n",
    "\n",
    "#from here on, we can refer to pandas simply as 'pd'"
   ]
  },
  {
   "cell_type": "markdown",
   "id": "01bf32a8-5361-4d65-ba3c-312e74424cff",
   "metadata": {
    "tags": []
   },
   "source": [
    "## Inspecting and importing data\n",
    "\n",
    "Make sure you *know* your data. The first thing you should always do before importing data is to inspect it.\n",
    "- From you command line or file explorer (Windows Explorer/Finder), open *stations.txt*...\n",
    "\n",
    "What do you observe? Look for patterns in the data: can you spot any characteristics that you could use to parse it into a table? Ideally, you would like to convert this into a clean table where each data point is separated into its own cell under a header. If you are good in Excel, you could easily clean this up in that software. However, you want your process to be as automated as possible, so your initial script will involve some of what you did last week.\n",
    "\n",
    "1. 📝 What would you say is the \"delimiter\" or \"separator\" for these data? Do the data have headers? Indicate your answers in the Markdown cell below."
   ]
  },
  {
   "cell_type": "markdown",
   "id": "5ec7c02b-f5ce-455c-9324-4b86c9bc206f",
   "metadata": {},
   "source": [
    "Semicolons are used as delimiters. The data does not have headers."
   ]
  },
  {
   "cell_type": "markdown",
   "id": "c6c2540b-16b8-4827-b3f6-650a418229f2",
   "metadata": {},
   "source": [
    "- close the file *stations.txt*.\n",
    "\n",
    "Now you're going to import this dataset. Pandas has a method called [*read_csv*](https://pandas.pydata.org/docs/user_guide/io.html#csv-text-files), which can be used to import almost any kind of table into a [pandas dataframe](https://pandas.pydata.org/docs/user_guide/dsintro.html#dataframe). Note that your data doesn't have headers, however, there is a file in your repo which indicates these..."
   ]
  },
  {
   "cell_type": "code",
   "execution_count": 2,
   "id": "28892151-63bf-4d85-8435-22b595770b4d",
   "metadata": {},
   "outputs": [],
   "source": [
    "#the command below is proposed for importing your table into a pandas dataframe. \n",
    "#It can take a series of optional parameters, which we call \"keyword arguments\"\n",
    "\n",
    "#indicate a value for each of the two following variables,\n",
    "#a string (mySep) will be passed to the 'sep' argument of the read_csv method,\n",
    "#and the other, a list of strings (myHeaders), will be used by the 'names' argument. You can find these headers in headers.txt\n",
    "#Refer to the read_csv documentation to understand what these arguments are doing for you...\n",
    "\n",
    "mySep = \";\"\n",
    "myHeaders = ['OBJECTID_1','OBJECTID','StaType','StnType','','City','Address2','Address1','Name','Code','StationNam']\n",
    "df_stations = pd.read_csv(\"stations.txt\", sep = mySep, header = None, names = myHeaders)\n",
    "#Once the data imports without error, continue!"
   ]
  },
  {
   "cell_type": "markdown",
   "id": "75fd5276-7ccf-4153-9bcc-29e8c21079da",
   "metadata": {},
   "source": [
    "Yay! Now you can start working with pandas.\n",
    "\n",
    "You now have a pandas dataframe stored in a variable called \"df_stations\".\n",
    "The print statement can be used to display the dataframe once imported, but Jupyter will render dataframes in a more appealing way if you call it without the print statement."
   ]
  },
  {
   "cell_type": "markdown",
   "id": "f52519a0-f594-4eed-b9db-4e4503177aca",
   "metadata": {
    "tags": []
   },
   "source": [
    "## Exploring pandas dataframes\n",
    "\n",
    "You can see that not all your data is visible. It would take up a lot of space to display all your data like an excel sheet (besides, you have other software for doing that). You can use the following dataframe methods to explore your data in pandas."
   ]
  },
  {
   "cell_type": "code",
   "execution_count": 3,
   "id": "9f16724b-e961-41a3-9bae-7db943be764d",
   "metadata": {},
   "outputs": [
    {
     "data": {
      "text/html": [
       "<div>\n",
       "<style scoped>\n",
       "    .dataframe tbody tr th:only-of-type {\n",
       "        vertical-align: middle;\n",
       "    }\n",
       "\n",
       "    .dataframe tbody tr th {\n",
       "        vertical-align: top;\n",
       "    }\n",
       "\n",
       "    .dataframe thead th {\n",
       "        text-align: right;\n",
       "    }\n",
       "</style>\n",
       "<table border=\"1\" class=\"dataframe\">\n",
       "  <thead>\n",
       "    <tr style=\"text-align: right;\">\n",
       "      <th></th>\n",
       "      <th>OBJECTID_1</th>\n",
       "      <th>OBJECTID</th>\n",
       "      <th>StaType</th>\n",
       "      <th>StnType</th>\n",
       "      <th></th>\n",
       "      <th>City</th>\n",
       "      <th>Address2</th>\n",
       "      <th>Address1</th>\n",
       "      <th>Name</th>\n",
       "      <th>Code</th>\n",
       "      <th>StationNam</th>\n",
       "    </tr>\n",
       "  </thead>\n",
       "  <tbody>\n",
       "    <tr>\n",
       "      <th>0</th>\n",
       "      <td>1</td>\n",
       "      <td>1</td>\n",
       "      <td>Station Building (with waiting room)</td>\n",
       "      <td>BUS</td>\n",
       "      <td>MI48801</td>\n",
       "      <td>Alma</td>\n",
       "      <td>Transportation Center</td>\n",
       "      <td>1105 Willow Run Drive</td>\n",
       "      <td></td>\n",
       "      <td>AAM</td>\n",
       "      <td>Alma, MI</td>\n",
       "    </tr>\n",
       "    <tr>\n",
       "      <th>1</th>\n",
       "      <td>2</td>\n",
       "      <td>2</td>\n",
       "      <td>Curbside Bus Stop only (no shelter)</td>\n",
       "      <td>BUS</td>\n",
       "      <td>NY12211</td>\n",
       "      <td>Albany</td>\n",
       "      <td></td>\n",
       "      <td>737 Albany Shaker Road</td>\n",
       "      <td>Albany Intl Airport</td>\n",
       "      <td>ABA</td>\n",
       "      <td>Albany, NY</td>\n",
       "    </tr>\n",
       "    <tr>\n",
       "      <th>2</th>\n",
       "      <td>3</td>\n",
       "      <td>3</td>\n",
       "      <td>Curbside Bus Stop only (no shelter)</td>\n",
       "      <td>BUS</td>\n",
       "      <td>WI54421</td>\n",
       "      <td>Colby</td>\n",
       "      <td></td>\n",
       "      <td>1210 North Division St.</td>\n",
       "      <td></td>\n",
       "      <td>ABB</td>\n",
       "      <td>Abbotsford-Colby, WI</td>\n",
       "    </tr>\n",
       "    <tr>\n",
       "      <th>3</th>\n",
       "      <td>4</td>\n",
       "      <td>4</td>\n",
       "      <td>Station Building (with waiting room)</td>\n",
       "      <td>TRAIN</td>\n",
       "      <td>MD21001</td>\n",
       "      <td>Aberdeen</td>\n",
       "      <td></td>\n",
       "      <td>18 East Bel Air Avenue</td>\n",
       "      <td></td>\n",
       "      <td>ABE</td>\n",
       "      <td>Aberdeen, MD</td>\n",
       "    </tr>\n",
       "    <tr>\n",
       "      <th>4</th>\n",
       "      <td>5</td>\n",
       "      <td>6</td>\n",
       "      <td>Station Building (with waiting room)</td>\n",
       "      <td>TRAIN</td>\n",
       "      <td>NM87102</td>\n",
       "      <td>Albuquerque</td>\n",
       "      <td></td>\n",
       "      <td>320 1st Street SW</td>\n",
       "      <td></td>\n",
       "      <td>ABQ</td>\n",
       "      <td>Albuquerque, NM</td>\n",
       "    </tr>\n",
       "  </tbody>\n",
       "</table>\n",
       "</div>"
      ],
      "text/plain": [
       "   OBJECTID_1  OBJECTID                               StaType StnType  \\\n",
       "0           1         1  Station Building (with waiting room)     BUS   \n",
       "1           2         2   Curbside Bus Stop only (no shelter)     BUS   \n",
       "2           3         3   Curbside Bus Stop only (no shelter)     BUS   \n",
       "3           4         4  Station Building (with waiting room)   TRAIN   \n",
       "4           5         6  Station Building (with waiting room)   TRAIN   \n",
       "\n",
       "                   City               Address2                 Address1  \\\n",
       "0  MI48801         Alma  Transportation Center    1105 Willow Run Drive   \n",
       "1  NY12211       Albany                          737 Albany Shaker Road   \n",
       "2  WI54421        Colby                         1210 North Division St.   \n",
       "3  MD21001     Aberdeen                          18 East Bel Air Avenue   \n",
       "4  NM87102  Albuquerque                               320 1st Street SW   \n",
       "\n",
       "                  Name Code            StationNam  \n",
       "0                       AAM              Alma, MI  \n",
       "1  Albany Intl Airport  ABA            Albany, NY  \n",
       "2                       ABB  Abbotsford-Colby, WI  \n",
       "3                       ABE          Aberdeen, MD  \n",
       "4                       ABQ       Albuquerque, NM  "
      ]
     },
     "execution_count": 3,
     "metadata": {},
     "output_type": "execute_result"
    }
   ],
   "source": [
    "#head will show you the top 5 rows\n",
    "df_stations.head()\n",
    "\n",
    "#you can also add a number indicating how many rows you would like to see inside the parentheses ()"
   ]
  },
  {
   "cell_type": "markdown",
   "id": "5ca89798-d423-461c-9279-cf530cde5b68",
   "metadata": {},
   "source": [
    "You can also use the tail method to show the last rows of a df.\n",
    "\n",
    "2. 📝 Use the tail method with the appropriate argument in the code cell below to show the last 15 rows of stations_df."
   ]
  },
  {
   "cell_type": "code",
   "execution_count": 4,
   "id": "cd82f4b7-d01b-434d-9c9c-54a9d4c1f8a1",
   "metadata": {},
   "outputs": [
    {
     "data": {
      "text/html": [
       "<div>\n",
       "<style scoped>\n",
       "    .dataframe tbody tr th:only-of-type {\n",
       "        vertical-align: middle;\n",
       "    }\n",
       "\n",
       "    .dataframe tbody tr th {\n",
       "        vertical-align: top;\n",
       "    }\n",
       "\n",
       "    .dataframe thead th {\n",
       "        text-align: right;\n",
       "    }\n",
       "</style>\n",
       "<table border=\"1\" class=\"dataframe\">\n",
       "  <thead>\n",
       "    <tr style=\"text-align: right;\">\n",
       "      <th></th>\n",
       "      <th>OBJECTID_1</th>\n",
       "      <th>OBJECTID</th>\n",
       "      <th>StaType</th>\n",
       "      <th>StnType</th>\n",
       "      <th></th>\n",
       "      <th>City</th>\n",
       "      <th>Address2</th>\n",
       "      <th>Address1</th>\n",
       "      <th>Name</th>\n",
       "      <th>Code</th>\n",
       "      <th>StationNam</th>\n",
       "    </tr>\n",
       "  </thead>\n",
       "  <tbody>\n",
       "    <tr>\n",
       "      <th>1083</th>\n",
       "      <td>1084</td>\n",
       "      <td>1092</td>\n",
       "      <td>Curbside Bus Stop only (no shelter)</td>\n",
       "      <td>BUS</td>\n",
       "      <td>CA95389</td>\n",
       "      <td>Yosemite National Park</td>\n",
       "      <td></td>\n",
       "      <td>9006 Yosemite Lodge Drive</td>\n",
       "      <td>Yosemite Valley Lodge</td>\n",
       "      <td>YOS</td>\n",
       "      <td>Yosemite National Park, CA</td>\n",
       "    </tr>\n",
       "    <tr>\n",
       "      <th>1084</th>\n",
       "      <td>1085</td>\n",
       "      <td>1093</td>\n",
       "      <td>Curbside Bus Stop only (no shelter)</td>\n",
       "      <td>BUS</td>\n",
       "      <td>CA95389</td>\n",
       "      <td>Yosemite National Park</td>\n",
       "      <td></td>\n",
       "      <td>Tioga Pass Road</td>\n",
       "      <td>Tuolomne Meadows</td>\n",
       "      <td>YOT</td>\n",
       "      <td>Yosemite National Park, CA</td>\n",
       "    </tr>\n",
       "    <tr>\n",
       "      <th>1085</th>\n",
       "      <td>1086</td>\n",
       "      <td>1094</td>\n",
       "      <td>Curbside Bus Stop only (no shelter)</td>\n",
       "      <td>BUS</td>\n",
       "      <td>CA95389</td>\n",
       "      <td>Yosemite National Park</td>\n",
       "      <td></td>\n",
       "      <td>9035 Village Drive</td>\n",
       "      <td>Visitor Center</td>\n",
       "      <td>YOV</td>\n",
       "      <td>Yosemite National Park, CA</td>\n",
       "    </tr>\n",
       "    <tr>\n",
       "      <th>1086</th>\n",
       "      <td>1087</td>\n",
       "      <td>1095</td>\n",
       "      <td>Curbside Bus Stop only (no shelter)</td>\n",
       "      <td>BUS</td>\n",
       "      <td>CA95389</td>\n",
       "      <td>Yosemite National Park</td>\n",
       "      <td></td>\n",
       "      <td>Old Tioga Road at Highway 120 East</td>\n",
       "      <td>White Wolf Lodge</td>\n",
       "      <td>YOW</td>\n",
       "      <td>Yosemite National Park, CA</td>\n",
       "    </tr>\n",
       "    <tr>\n",
       "      <th>1087</th>\n",
       "      <td>1088</td>\n",
       "      <td>1096</td>\n",
       "      <td>Platform only (no shelter)</td>\n",
       "      <td>TRAIN</td>\n",
       "      <td>AZ85364</td>\n",
       "      <td>Yuma</td>\n",
       "      <td></td>\n",
       "      <td>281 Gila Street</td>\n",
       "      <td></td>\n",
       "      <td>YUM</td>\n",
       "      <td>Yuma, AZ</td>\n",
       "    </tr>\n",
       "  </tbody>\n",
       "</table>\n",
       "</div>"
      ],
      "text/plain": [
       "      OBJECTID_1  OBJECTID                              StaType StnType  \\\n",
       "1083        1084      1092  Curbside Bus Stop only (no shelter)     BUS   \n",
       "1084        1085      1093  Curbside Bus Stop only (no shelter)     BUS   \n",
       "1085        1086      1094  Curbside Bus Stop only (no shelter)     BUS   \n",
       "1086        1087      1095  Curbside Bus Stop only (no shelter)     BUS   \n",
       "1087        1088      1096           Platform only (no shelter)   TRAIN   \n",
       "\n",
       "                                 City Address2  \\\n",
       "1083  CA95389  Yosemite National Park            \n",
       "1084  CA95389  Yosemite National Park            \n",
       "1085  CA95389  Yosemite National Park            \n",
       "1086  CA95389  Yosemite National Park            \n",
       "1087  AZ85364                    Yuma            \n",
       "\n",
       "                                Address1                   Name Code  \\\n",
       "1083           9006 Yosemite Lodge Drive  Yosemite Valley Lodge  YOS   \n",
       "1084                     Tioga Pass Road       Tuolomne Meadows  YOT   \n",
       "1085                  9035 Village Drive         Visitor Center  YOV   \n",
       "1086  Old Tioga Road at Highway 120 East       White Wolf Lodge  YOW   \n",
       "1087                     281 Gila Street                         YUM   \n",
       "\n",
       "                      StationNam  \n",
       "1083  Yosemite National Park, CA  \n",
       "1084  Yosemite National Park, CA  \n",
       "1085  Yosemite National Park, CA  \n",
       "1086  Yosemite National Park, CA  \n",
       "1087                    Yuma, AZ  "
      ]
     },
     "execution_count": 4,
     "metadata": {},
     "output_type": "execute_result"
    }
   ],
   "source": [
    "df_stations.tail()"
   ]
  },
  {
   "cell_type": "markdown",
   "id": "a98aba72-cec4-4deb-a2e8-b762f59c0823",
   "metadata": {},
   "source": [
    "Below are some other commands you can use to explore your data..."
   ]
  },
  {
   "cell_type": "code",
   "execution_count": 5,
   "id": "c48043d8-e29b-424b-bf01-058764e80ea2",
   "metadata": {},
   "outputs": [
    {
     "data": {
      "text/plain": [
       "(1088, 11)"
      ]
     },
     "execution_count": 5,
     "metadata": {},
     "output_type": "execute_result"
    }
   ],
   "source": [
    "#shape will return a tuple containing the number of rows followed by the number of columns.\n",
    "df_stations.shape"
   ]
  },
  {
   "cell_type": "code",
   "execution_count": 6,
   "id": "78c13679-494c-46cc-b1b6-b769792d3c5b",
   "metadata": {},
   "outputs": [
    {
     "name": "stdout",
     "output_type": "stream",
     "text": [
      "<class 'pandas.core.frame.DataFrame'>\n",
      "RangeIndex: 1088 entries, 0 to 1087\n",
      "Data columns (total 11 columns):\n",
      " #   Column      Non-Null Count  Dtype \n",
      "---  ------      --------------  ----- \n",
      " 0   OBJECTID_1  1088 non-null   int64 \n",
      " 1   OBJECTID    1088 non-null   int64 \n",
      " 2   StaType     1088 non-null   object\n",
      " 3   StnType     1088 non-null   object\n",
      " 4               1088 non-null   object\n",
      " 5   City        1088 non-null   object\n",
      " 6   Address2    1088 non-null   object\n",
      " 7   Address1    1088 non-null   object\n",
      " 8   Name        1088 non-null   object\n",
      " 9   Code        1088 non-null   object\n",
      " 10  StationNam  1088 non-null   object\n",
      "dtypes: int64(2), object(9)\n",
      "memory usage: 93.6+ KB\n"
     ]
    }
   ],
   "source": [
    "#info will show you useful information related to your data\n",
    "df_stations.info()"
   ]
  },
  {
   "cell_type": "code",
   "execution_count": 7,
   "id": "d02491fa-6950-433f-a237-1f0c74d27ec9",
   "metadata": {},
   "outputs": [
    {
     "data": {
      "text/html": [
       "<div>\n",
       "<style scoped>\n",
       "    .dataframe tbody tr th:only-of-type {\n",
       "        vertical-align: middle;\n",
       "    }\n",
       "\n",
       "    .dataframe tbody tr th {\n",
       "        vertical-align: top;\n",
       "    }\n",
       "\n",
       "    .dataframe thead th {\n",
       "        text-align: right;\n",
       "    }\n",
       "</style>\n",
       "<table border=\"1\" class=\"dataframe\">\n",
       "  <thead>\n",
       "    <tr style=\"text-align: right;\">\n",
       "      <th></th>\n",
       "      <th>OBJECTID_1</th>\n",
       "      <th>OBJECTID</th>\n",
       "    </tr>\n",
       "  </thead>\n",
       "  <tbody>\n",
       "    <tr>\n",
       "      <th>count</th>\n",
       "      <td>1088.000000</td>\n",
       "      <td>1088.000000</td>\n",
       "    </tr>\n",
       "    <tr>\n",
       "      <th>mean</th>\n",
       "      <td>544.500000</td>\n",
       "      <td>550.622243</td>\n",
       "    </tr>\n",
       "    <tr>\n",
       "      <th>std</th>\n",
       "      <td>314.222851</td>\n",
       "      <td>316.027068</td>\n",
       "    </tr>\n",
       "    <tr>\n",
       "      <th>min</th>\n",
       "      <td>1.000000</td>\n",
       "      <td>1.000000</td>\n",
       "    </tr>\n",
       "    <tr>\n",
       "      <th>25%</th>\n",
       "      <td>272.750000</td>\n",
       "      <td>277.750000</td>\n",
       "    </tr>\n",
       "    <tr>\n",
       "      <th>50%</th>\n",
       "      <td>544.500000</td>\n",
       "      <td>551.500000</td>\n",
       "    </tr>\n",
       "    <tr>\n",
       "      <th>75%</th>\n",
       "      <td>816.250000</td>\n",
       "      <td>824.250000</td>\n",
       "    </tr>\n",
       "    <tr>\n",
       "      <th>max</th>\n",
       "      <td>1088.000000</td>\n",
       "      <td>1096.000000</td>\n",
       "    </tr>\n",
       "  </tbody>\n",
       "</table>\n",
       "</div>"
      ],
      "text/plain": [
       "        OBJECTID_1     OBJECTID\n",
       "count  1088.000000  1088.000000\n",
       "mean    544.500000   550.622243\n",
       "std     314.222851   316.027068\n",
       "min       1.000000     1.000000\n",
       "25%     272.750000   277.750000\n",
       "50%     544.500000   551.500000\n",
       "75%     816.250000   824.250000\n",
       "max    1088.000000  1096.000000"
      ]
     },
     "execution_count": 7,
     "metadata": {},
     "output_type": "execute_result"
    }
   ],
   "source": [
    "#describe will compute some summary statistics about your data\n",
    "#note that such statistics may be meaningless based on the nature of your data\n",
    "df_stations.describe() "
   ]
  },
  {
   "cell_type": "markdown",
   "id": "a1cf0489-56a9-4f67-bc17-4a3233f2bccf",
   "metadata": {},
   "source": [
    "3. 📝 Based on the information provided by the commands above, how many stations are there in your data?"
   ]
  },
  {
   "cell_type": "markdown",
   "id": "885f4991-40d4-4b1f-b312-3fbdf1d16db9",
   "metadata": {},
   "source": [
    "There are 1,088 stations."
   ]
  },
  {
   "cell_type": "markdown",
   "id": "63aa8078-0289-45ce-b9b5-ca33e96e83c9",
   "metadata": {},
   "source": [
    "4. 📝 Based on the information provided by the commands above, how many different cities are represented in your data?"
   ]
  },
  {
   "cell_type": "markdown",
   "id": "4039cb21-c15d-4e8f-bc85-8e76b54b3cc7",
   "metadata": {},
   "source": [
    "1,088 cities"
   ]
  },
  {
   "cell_type": "markdown",
   "id": "d94f6470-acc8-4ae1-b6fd-00f6d583db7f",
   "metadata": {},
   "source": [
    "5. 📝 Why do you think the *describe()* method is only providing summary stats for two fields?"
   ]
  },
  {
   "cell_type": "markdown",
   "id": "de4ea326-cd5d-4a2d-9684-888e25529850",
   "metadata": {},
   "source": [
    "Because it cannot provide those statistics for object values, only interger fields can be summarized."
   ]
  },
  {
   "cell_type": "markdown",
   "id": "71463b21-d9d3-4275-9328-a4e8b7fc009a",
   "metadata": {},
   "source": [
    "You can easily create new dataframes by subsetting. In other words, selecting specific columns to assign to a new dataframe. This is great for shedding columns you might not need. Subsetting a dataframe has similarities to how you would do it with a dictionary: You use the [] to select fields by their header names. See below:"
   ]
  },
  {
   "cell_type": "code",
   "execution_count": 8,
   "id": "c7443515-cd86-4d82-82fb-3d3c75113ed6",
   "metadata": {},
   "outputs": [
    {
     "data": {
      "text/plain": [
       "0    Station Building (with waiting room)\n",
       "1     Curbside Bus Stop only (no shelter)\n",
       "2     Curbside Bus Stop only (no shelter)\n",
       "3    Station Building (with waiting room)\n",
       "4    Station Building (with waiting room)\n",
       "Name: StaType, dtype: object"
      ]
     },
     "execution_count": 8,
     "metadata": {},
     "output_type": "execute_result"
    }
   ],
   "source": [
    "#to isolate a single column, simply select the header like you would a key in a dictionary\n",
    "#This creates a pandas 'Series', which is kind of analogous to a list. It's basically a one-dimensional dataframe...\n",
    "stationTypes = df_stations['StaType']\n",
    "stationTypes.head()\n",
    "\n",
    "#pass stationTypes to the type() function. What data type is it?\n"
   ]
  },
  {
   "cell_type": "code",
   "execution_count": 9,
   "id": "cad745d7-ba12-45e0-b8ad-8fe6bd31cce3",
   "metadata": {},
   "outputs": [
    {
     "data": {
      "text/html": [
       "<div>\n",
       "<style scoped>\n",
       "    .dataframe tbody tr th:only-of-type {\n",
       "        vertical-align: middle;\n",
       "    }\n",
       "\n",
       "    .dataframe tbody tr th {\n",
       "        vertical-align: top;\n",
       "    }\n",
       "\n",
       "    .dataframe thead th {\n",
       "        text-align: right;\n",
       "    }\n",
       "</style>\n",
       "<table border=\"1\" class=\"dataframe\">\n",
       "  <thead>\n",
       "    <tr style=\"text-align: right;\">\n",
       "      <th></th>\n",
       "      <th>StaType</th>\n",
       "      <th>Code</th>\n",
       "    </tr>\n",
       "  </thead>\n",
       "  <tbody>\n",
       "    <tr>\n",
       "      <th>0</th>\n",
       "      <td>Station Building (with waiting room)</td>\n",
       "      <td>AAM</td>\n",
       "    </tr>\n",
       "    <tr>\n",
       "      <th>1</th>\n",
       "      <td>Curbside Bus Stop only (no shelter)</td>\n",
       "      <td>ABA</td>\n",
       "    </tr>\n",
       "    <tr>\n",
       "      <th>2</th>\n",
       "      <td>Curbside Bus Stop only (no shelter)</td>\n",
       "      <td>ABB</td>\n",
       "    </tr>\n",
       "    <tr>\n",
       "      <th>3</th>\n",
       "      <td>Station Building (with waiting room)</td>\n",
       "      <td>ABE</td>\n",
       "    </tr>\n",
       "    <tr>\n",
       "      <th>4</th>\n",
       "      <td>Station Building (with waiting room)</td>\n",
       "      <td>ABQ</td>\n",
       "    </tr>\n",
       "  </tbody>\n",
       "</table>\n",
       "</div>"
      ],
      "text/plain": [
       "                                StaType Code\n",
       "0  Station Building (with waiting room)  AAM\n",
       "1   Curbside Bus Stop only (no shelter)  ABA\n",
       "2   Curbside Bus Stop only (no shelter)  ABB\n",
       "3  Station Building (with waiting room)  ABE\n",
       "4  Station Building (with waiting room)  ABQ"
      ]
     },
     "execution_count": 9,
     "metadata": {},
     "output_type": "execute_result"
    }
   ],
   "source": [
    "#for example, let's create a new dataframe that only contains the station code and station type\n",
    "#to subset multiple columns to a new dataframe, you will need to pass a list of these headers\n",
    "little_df = df_stations[['StaType','Code']]\n",
    "little_df.head()"
   ]
  },
  {
   "cell_type": "markdown",
   "id": "6a2e97ed-720b-43d6-b977-933657bc33fc",
   "metadata": {},
   "source": [
    "6. 📝 In the code cell below, create a new dataframe called *temp_df* that only contains the following fields: *StaType, StnType, City, Address1*"
   ]
  },
  {
   "cell_type": "code",
   "execution_count": 10,
   "id": "5131c9e2-da21-4ad6-9e72-51230457902c",
   "metadata": {},
   "outputs": [
    {
     "data": {
      "text/html": [
       "<div>\n",
       "<style scoped>\n",
       "    .dataframe tbody tr th:only-of-type {\n",
       "        vertical-align: middle;\n",
       "    }\n",
       "\n",
       "    .dataframe tbody tr th {\n",
       "        vertical-align: top;\n",
       "    }\n",
       "\n",
       "    .dataframe thead th {\n",
       "        text-align: right;\n",
       "    }\n",
       "</style>\n",
       "<table border=\"1\" class=\"dataframe\">\n",
       "  <thead>\n",
       "    <tr style=\"text-align: right;\">\n",
       "      <th></th>\n",
       "      <th>StaType</th>\n",
       "      <th>StnType</th>\n",
       "      <th>City</th>\n",
       "      <th>Address1</th>\n",
       "    </tr>\n",
       "  </thead>\n",
       "  <tbody>\n",
       "    <tr>\n",
       "      <th>0</th>\n",
       "      <td>Station Building (with waiting room)</td>\n",
       "      <td>BUS</td>\n",
       "      <td>Alma</td>\n",
       "      <td>1105 Willow Run Drive</td>\n",
       "    </tr>\n",
       "    <tr>\n",
       "      <th>1</th>\n",
       "      <td>Curbside Bus Stop only (no shelter)</td>\n",
       "      <td>BUS</td>\n",
       "      <td>Albany</td>\n",
       "      <td>737 Albany Shaker Road</td>\n",
       "    </tr>\n",
       "    <tr>\n",
       "      <th>2</th>\n",
       "      <td>Curbside Bus Stop only (no shelter)</td>\n",
       "      <td>BUS</td>\n",
       "      <td>Colby</td>\n",
       "      <td>1210 North Division St.</td>\n",
       "    </tr>\n",
       "    <tr>\n",
       "      <th>3</th>\n",
       "      <td>Station Building (with waiting room)</td>\n",
       "      <td>TRAIN</td>\n",
       "      <td>Aberdeen</td>\n",
       "      <td>18 East Bel Air Avenue</td>\n",
       "    </tr>\n",
       "    <tr>\n",
       "      <th>4</th>\n",
       "      <td>Station Building (with waiting room)</td>\n",
       "      <td>TRAIN</td>\n",
       "      <td>Albuquerque</td>\n",
       "      <td>320 1st Street SW</td>\n",
       "    </tr>\n",
       "  </tbody>\n",
       "</table>\n",
       "</div>"
      ],
      "text/plain": [
       "                                StaType StnType         City  \\\n",
       "0  Station Building (with waiting room)     BUS         Alma   \n",
       "1   Curbside Bus Stop only (no shelter)     BUS       Albany   \n",
       "2   Curbside Bus Stop only (no shelter)     BUS        Colby   \n",
       "3  Station Building (with waiting room)   TRAIN     Aberdeen   \n",
       "4  Station Building (with waiting room)   TRAIN  Albuquerque   \n",
       "\n",
       "                  Address1  \n",
       "0    1105 Willow Run Drive  \n",
       "1   737 Albany Shaker Road  \n",
       "2  1210 North Division St.  \n",
       "3   18 East Bel Air Avenue  \n",
       "4        320 1st Street SW  "
      ]
     },
     "execution_count": 10,
     "metadata": {},
     "output_type": "execute_result"
    }
   ],
   "source": [
    "temp_df=df_stations[[\"StaType\",\"StnType\",\"City\",\"Address1\"]]\n",
    "temp_df.head()"
   ]
  },
  {
   "cell_type": "markdown",
   "id": "4f891c3a-a1c9-42e5-9c33-6bc2ff3c6435",
   "metadata": {},
   "source": [
    "Another way of shedding unneeded columns is simply to delete them in-place (within the original df). In *df_stations*, There are columns which you could do without. These would be the following: *OBJECTID_1, OBJECTID, Address2, Name*\n",
    "\n",
    "These 4 fields are by most measures useless. You can tell because they are either zombie ID fields, or contain so few values that their use in any scenario is questionable. Search for the delete method in the [pandas documentation](https://pandas.pydata.org/docs/user_guide/index.html) and delete these fields!\n",
    "\n",
    "(hint: you might want to check inside the page on dataframes...)\n",
    "\n",
    "Once you find the relevant information, you will see that there are two common ways of deleting fields: 'del' and the more familiar 'pop' method used with lists.\n",
    "\n",
    "7. 📝 Use the pop method to delete these fields."
   ]
  },
  {
   "cell_type": "code",
   "execution_count": 11,
   "id": "a094b3d4-4468-4f91-9940-60a9797820d8",
   "metadata": {},
   "outputs": [
    {
     "data": {
      "text/html": [
       "<div>\n",
       "<style scoped>\n",
       "    .dataframe tbody tr th:only-of-type {\n",
       "        vertical-align: middle;\n",
       "    }\n",
       "\n",
       "    .dataframe tbody tr th {\n",
       "        vertical-align: top;\n",
       "    }\n",
       "\n",
       "    .dataframe thead th {\n",
       "        text-align: right;\n",
       "    }\n",
       "</style>\n",
       "<table border=\"1\" class=\"dataframe\">\n",
       "  <thead>\n",
       "    <tr style=\"text-align: right;\">\n",
       "      <th></th>\n",
       "      <th>StaType</th>\n",
       "      <th>StnType</th>\n",
       "      <th></th>\n",
       "      <th>City</th>\n",
       "      <th>Address1</th>\n",
       "      <th>Code</th>\n",
       "      <th>StationNam</th>\n",
       "    </tr>\n",
       "  </thead>\n",
       "  <tbody>\n",
       "    <tr>\n",
       "      <th>0</th>\n",
       "      <td>Station Building (with waiting room)</td>\n",
       "      <td>BUS</td>\n",
       "      <td>MI48801</td>\n",
       "      <td>Alma</td>\n",
       "      <td>1105 Willow Run Drive</td>\n",
       "      <td>AAM</td>\n",
       "      <td>Alma, MI</td>\n",
       "    </tr>\n",
       "    <tr>\n",
       "      <th>1</th>\n",
       "      <td>Curbside Bus Stop only (no shelter)</td>\n",
       "      <td>BUS</td>\n",
       "      <td>NY12211</td>\n",
       "      <td>Albany</td>\n",
       "      <td>737 Albany Shaker Road</td>\n",
       "      <td>ABA</td>\n",
       "      <td>Albany, NY</td>\n",
       "    </tr>\n",
       "    <tr>\n",
       "      <th>2</th>\n",
       "      <td>Curbside Bus Stop only (no shelter)</td>\n",
       "      <td>BUS</td>\n",
       "      <td>WI54421</td>\n",
       "      <td>Colby</td>\n",
       "      <td>1210 North Division St.</td>\n",
       "      <td>ABB</td>\n",
       "      <td>Abbotsford-Colby, WI</td>\n",
       "    </tr>\n",
       "    <tr>\n",
       "      <th>3</th>\n",
       "      <td>Station Building (with waiting room)</td>\n",
       "      <td>TRAIN</td>\n",
       "      <td>MD21001</td>\n",
       "      <td>Aberdeen</td>\n",
       "      <td>18 East Bel Air Avenue</td>\n",
       "      <td>ABE</td>\n",
       "      <td>Aberdeen, MD</td>\n",
       "    </tr>\n",
       "    <tr>\n",
       "      <th>4</th>\n",
       "      <td>Station Building (with waiting room)</td>\n",
       "      <td>TRAIN</td>\n",
       "      <td>NM87102</td>\n",
       "      <td>Albuquerque</td>\n",
       "      <td>320 1st Street SW</td>\n",
       "      <td>ABQ</td>\n",
       "      <td>Albuquerque, NM</td>\n",
       "    </tr>\n",
       "  </tbody>\n",
       "</table>\n",
       "</div>"
      ],
      "text/plain": [
       "                                StaType StnType                  City  \\\n",
       "0  Station Building (with waiting room)     BUS  MI48801         Alma   \n",
       "1   Curbside Bus Stop only (no shelter)     BUS  NY12211       Albany   \n",
       "2   Curbside Bus Stop only (no shelter)     BUS  WI54421        Colby   \n",
       "3  Station Building (with waiting room)   TRAIN  MD21001     Aberdeen   \n",
       "4  Station Building (with waiting room)   TRAIN  NM87102  Albuquerque   \n",
       "\n",
       "                  Address1 Code            StationNam  \n",
       "0    1105 Willow Run Drive  AAM              Alma, MI  \n",
       "1   737 Albany Shaker Road  ABA            Albany, NY  \n",
       "2  1210 North Division St.  ABB  Abbotsford-Colby, WI  \n",
       "3   18 East Bel Air Avenue  ABE          Aberdeen, MD  \n",
       "4        320 1st Street SW  ABQ       Albuquerque, NM  "
      ]
     },
     "execution_count": 11,
     "metadata": {},
     "output_type": "execute_result"
    }
   ],
   "source": [
    "#use the pop method\n",
    "#then run the cell to display your dataframe below and make sure everything is as expected\n",
    "df_stations.pop('OBJECTID_1')\n",
    "df_stations.pop('OBJECTID')\n",
    "df_stations.pop('Name')\n",
    "df_stations.pop('Address2')\n",
    "df_stations.head()"
   ]
  },
  {
   "cell_type": "markdown",
   "id": "94b40ace-13db-460b-8760-61addac8848b",
   "metadata": {},
   "source": [
    "8. 📝 Once you have run your deletions in the cell above, run the code cell again. Why does it fail? What is a KeyError? Write your answer **in bold** in the Markdown cell below."
   ]
  },
  {
   "cell_type": "markdown",
   "id": "1eaec642-6d24-4da7-9873-c3e8a682d1e6",
   "metadata": {},
   "source": [
    "<b>A KeyError tells us that the field inserted in the code does not exist; therefore, when we run the code again, it is telling us that the fields we are trying to delete do not exist.</b>"
   ]
  },
  {
   "cell_type": "markdown",
   "id": "57e89006-db80-47db-9cb4-a32582e9dd8e",
   "metadata": {
    "tags": []
   },
   "source": [
    "### Bonus question (optional):"
   ]
  },
  {
   "cell_type": "markdown",
   "id": "826ae031-1808-4f9b-bf0e-f3e92ed439a9",
   "metadata": {},
   "source": [
    "After exploring your data in pandas for a couple minutes, you realize there is a field containing information that should probably be split! You have dealt with issues like this before...  but things might seem a little more complicated this time. Which field is it? Does it even have a header? Remind yourself of what information is contained inside this column...\n",
    "\n",
    "How would you slice this column into two separate columns? There are many ways to do this. A familiar way might be to temporarily [turn your df into a dictionary](https://pandas.pydata.org/docs/reference/api/pandas.DataFrame.to_dict.html) so you can use some familiar Python methods..."
   ]
  },
  {
   "cell_type": "code",
   "execution_count": 31,
   "id": "9ee9174b-26f3-4e49-abf4-9a303ef18374",
   "metadata": {},
   "outputs": [],
   "source": [
    "tempDict = df_stations.to_dict()"
   ]
  },
  {
   "cell_type": "markdown",
   "id": "52cde6dd-2d40-4b03-98c7-2490813a2069",
   "metadata": {},
   "source": [
    "BONUS 📝 This is an optional exercise, you are not required to fulfill it to get full points: Using tempDict, write an algorithm that will slice the state abbreviations from the zip codes. Note that the field in question does not have a header, so it can be called using an empty string. You might want to use some code from a previous lab. Some starter code is provided only for guidance..."
   ]
  },
  {
   "cell_type": "code",
   "execution_count": null,
   "id": "e0d9659b-1d57-4984-a11b-22bd12902c61",
   "metadata": {},
   "outputs": [],
   "source": [
    "for row in tempDict['']:\n",
    "    print(tempDict[''][row])\n",
    "    "
   ]
  },
  {
   "cell_type": "markdown",
   "id": "15e98229-2a2e-48fa-b117-4af6e63d5096",
   "metadata": {},
   "source": [
    "# Preparing your data for the mapping intern\n",
    "\n",
    "Now that your table is all cleaned up, it's time to prepare it for mapping. There's one issue though: the data you've been working with so far doesn't seem to have any explicit location information (i.e. coordinates). There is other geographic information in your table, however, which you could potentially exploit for mapping purposes. Can you name which fields these would be?\n",
    "\n",
    "9. 📝 List your answers in the Markdown cell below."
   ]
  },
  {
   "cell_type": "markdown",
   "id": "edfad49d-13e5-4fcb-91ad-ccc061521640",
   "metadata": {},
   "source": [
    "We can use the City, Address1 and StationNam fields"
   ]
  },
  {
   "cell_type": "markdown",
   "id": "42e4bcdc-4784-4b40-b912-3b86ee3e8cf8",
   "metadata": {},
   "source": [
    "Which fields do you think you would need in order to [geocode](https://desktop.arcgis.com/en/arcmap/latest/manage-data/geocoding/what-is-geocoding.htm) these transit stations? Name all that apply in the Markdown cell below."
   ]
  },
  {
   "cell_type": "markdown",
   "id": "4c1f54ed-902a-4026-aca0-7e1b01a47110",
   "metadata": {},
   "source": [
    "Address1 and StationNam is all you need to geocode. We can also use the City field, but it is redundant as the city name appears in the StationNam field as well."
   ]
  },
  {
   "cell_type": "markdown",
   "id": "bc5c790d-1525-4f04-b00d-dc5563354dd9",
   "metadata": {
    "tags": []
   },
   "source": [
    "Luckily, you won't need to be doing any geocoding today, since you noticed that your supervisor also left you with another file called *locs.txt*.\n",
    "\n",
    "- Open the file in a text editor and inspect it like you did with the stations file. Do you notice a pattern here which you could use for parsing the data? \n",
    "\n",
    "10. 📝 Respond to the questions in the Markdown cell below:"
   ]
  },
  {
   "cell_type": "markdown",
   "id": "dee94e91-6e00-4039-942e-289fc9591aeb",
   "metadata": {},
   "source": [
    "- What would the delimiter be for these data? What file extension do we typically use to associate to this delimiter?\n",
    "- Do the data have headers?\n",
    "- Can you identify a field in locs.txt that you could use to merge with your stations data? Which field?"
   ]
  },
  {
   "cell_type": "markdown",
   "id": "557e6cb6-8f21-4abb-bb92-717f4cd5de38",
   "metadata": {},
   "source": [
    "The data does not have headers and uses semicolons as the delimiter. \n",
    "The Code field can be used to merge information between locs.txt and df_stations."
   ]
  },
  {
   "cell_type": "markdown",
   "id": "40c31652-d24f-4ca1-91ed-85de1313076d",
   "metadata": {},
   "source": [
    "11. 📝 Import *locs.txt* into Jupyterlab using the appropriate pandas method (you've done this before!) and assign the dataframe to a variable called *df_locs*."
   ]
  },
  {
   "cell_type": "code",
   "execution_count": 14,
   "id": "e2038585-c2ee-43af-ae83-a4d0c30ccea6",
   "metadata": {},
   "outputs": [
    {
     "data": {
      "text/html": [
       "<div>\n",
       "<style scoped>\n",
       "    .dataframe tbody tr th:only-of-type {\n",
       "        vertical-align: middle;\n",
       "    }\n",
       "\n",
       "    .dataframe tbody tr th {\n",
       "        vertical-align: top;\n",
       "    }\n",
       "\n",
       "    .dataframe thead th {\n",
       "        text-align: right;\n",
       "    }\n",
       "</style>\n",
       "<table border=\"1\" class=\"dataframe\">\n",
       "  <thead>\n",
       "    <tr style=\"text-align: right;\">\n",
       "      <th></th>\n",
       "      <th>X</th>\n",
       "      <th>Y</th>\n",
       "      <th>Code</th>\n",
       "    </tr>\n",
       "  </thead>\n",
       "  <tbody>\n",
       "    <tr>\n",
       "      <th>0</th>\n",
       "      <td>-84.644837</td>\n",
       "      <td>43.391728</td>\n",
       "      <td>AAM</td>\n",
       "    </tr>\n",
       "    <tr>\n",
       "      <th>1</th>\n",
       "      <td>-73.809186</td>\n",
       "      <td>42.744500</td>\n",
       "      <td>ABA</td>\n",
       "    </tr>\n",
       "    <tr>\n",
       "      <th>2</th>\n",
       "      <td>-90.314674</td>\n",
       "      <td>44.928561</td>\n",
       "      <td>ABB</td>\n",
       "    </tr>\n",
       "    <tr>\n",
       "      <th>3</th>\n",
       "      <td>-76.163262</td>\n",
       "      <td>39.508455</td>\n",
       "      <td>ABE</td>\n",
       "    </tr>\n",
       "    <tr>\n",
       "      <th>4</th>\n",
       "      <td>-106.647985</td>\n",
       "      <td>35.082067</td>\n",
       "      <td>ABQ</td>\n",
       "    </tr>\n",
       "  </tbody>\n",
       "</table>\n",
       "</div>"
      ],
      "text/plain": [
       "            X          Y Code\n",
       "0  -84.644837  43.391728  AAM\n",
       "1  -73.809186  42.744500  ABA\n",
       "2  -90.314674  44.928561  ABB\n",
       "3  -76.163262  39.508455  ABE\n",
       "4 -106.647985  35.082067  ABQ"
      ]
     },
     "execution_count": 14,
     "metadata": {},
     "output_type": "execute_result"
    }
   ],
   "source": [
    "df_locs=pd.read_csv('locs.txt', header= 'infer')\n",
    "df_locs.head()"
   ]
  },
  {
   "cell_type": "markdown",
   "id": "7dffa57a-831c-43c8-8288-b18657d25127",
   "metadata": {},
   "source": [
    "## Merging dataframes\n",
    "\n",
    "You will need to join your location data with your station information. You can do this using the pandas [merge method](https://pandas.pydata.org/docs/user_guide/merging.html#database-style-dataframe-or-named-series-joining-merging)."
   ]
  },
  {
   "cell_type": "markdown",
   "id": "92234679-2e73-46f4-bc48-dc804bc4f41f",
   "metadata": {},
   "source": [
    "Before doing a merge, you should identify which column can be used to perform the merge. Merges are very similar to standard [join operations](https://dataschool.com/assets/images/how-to-teach-people-sql/sqlJoins/sqlJoins_7.png) in SQL, which you have probably seen in software like ArcGIS before (e.g. joining some data to the attribute table of a shapefile based on a common identifier).\n",
    "\n",
    "To merge tables, you will need to identify a column that contains values which can be used to match rows from each table to eachother.\n",
    "\n",
    "- Take note of which column you could use as a join field for merging df_stations with df_locs."
   ]
  },
  {
   "cell_type": "markdown",
   "id": "139a7d09-9f4b-42f3-8480-18f39829a668",
   "metadata": {},
   "source": [
    "Before performing a merge, you want to make sure there are no duplicates in your data. A duplicate could mean that the same row from the table being merged gets joined twice or more. The [duplicated method](https://pandas.pydata.org/docs/reference/api/pandas.DataFrame.duplicated.html) can serve you well here."
   ]
  },
  {
   "cell_type": "code",
   "execution_count": 15,
   "id": "b2834276-f8bf-4b75-abde-5660f3062bf8",
   "metadata": {},
   "outputs": [
    {
     "name": "stdout",
     "output_type": "stream",
     "text": [
      "False\n"
     ]
    }
   ],
   "source": [
    "#the code below will create a list of booleans, indicating True if a duplicate row is detected\n",
    "#(i.e. a row is only \"True\" if all cells are identical to all cells contained in another row)\n",
    "#and False if the row is unique.\n",
    "\n",
    "duplicates = df_stations.duplicated()\n",
    "\n",
    "#below is a little loop for verifying if there are any duplicates\n",
    "for x in duplicates:\n",
    "    if x == True:\n",
    "        print(x)\n",
    "    else:\n",
    "        pass\n",
    "    \n",
    "print(x)"
   ]
  },
  {
   "cell_type": "markdown",
   "id": "d07e5fe0-93cc-46ac-8093-366ab3d6957f",
   "metadata": {},
   "source": [
    "12. 📝 Are there any duplicates in df_stations? (yes or no in Markdown cell below)"
   ]
  },
  {
   "cell_type": "markdown",
   "id": "cb2034db-b8e7-4074-9c91-0b060aadb669",
   "metadata": {},
   "source": [
    "No"
   ]
  },
  {
   "cell_type": "markdown",
   "id": "4c632597-1106-4e5a-b570-f159d70ac6e2",
   "metadata": {},
   "source": [
    "The code below will test whether there are any duplicates specifically within the *Code* field, which could be a good field for eventually merging the data..."
   ]
  },
  {
   "cell_type": "code",
   "execution_count": 16,
   "id": "2966487d-9c87-434e-9c62-68128a62ad28",
   "metadata": {},
   "outputs": [
    {
     "name": "stdout",
     "output_type": "stream",
     "text": [
      "False\n"
     ]
    }
   ],
   "source": [
    "duplicates = df_stations['Code'].duplicated()\n",
    "\n",
    "#below is a little loop for verifying if there are any duplicates\n",
    "for x in duplicates:\n",
    "    if x == True:\n",
    "        print(x)\n",
    "    else:\n",
    "        pass\n",
    "\n",
    "print(x)"
   ]
  },
  {
   "cell_type": "markdown",
   "id": "cafb2e46-d91c-4d02-98e4-cc845c51d748",
   "metadata": {},
   "source": [
    "### Using a custom function to check for duplicates\n",
    "\n",
    "[Functions](https://www.w3schools.com/python/python_functions.asp) are a great way to organize your code. Basically, you can wrap any code inside a function, which allows you to call that code from anywhere else in your code without having to rewrite the code all over again! Think of it as a more elaborate variable, but a variable that *does* stuff, instead of just holding static information. Like variables, you need to declare a function first before using it. After that, you can refer to it anywhere, as long as you pass it the right arguments!\n",
    "\n",
    "Functions in Python are declared using the 'def' keyword. Immediately following the name of the function - which is up to you to choose, much like any variable name - you need to add parentheses (()). Inside these parentheses is where you can pass arguments to the function (i.e. input data).\n",
    "\n",
    "Like conditional statements or loops, function declarations are immediately followed by a colon (:), and any code nested inside a function is indented. The 'return' statement at the end of a function signals what it will output. Think of the () of the function as the point of entry, and the 'return' statement as the exit.\n",
    "\n",
    "13. 📝 You would like to write a custom function to check for duplicates so that you can freely call it from anywhere in your code. Your function should require a **list of booleans as input**, and **return a number indicating the number of duplicates** (i.e. True values) in the list that was passed to it. Use the documentation provided above to familiarize yourself with functions. As always, you can Google for further research.\n",
    "\n",
    "Hint: len() will provide the length of a list (and therefore a number). .append() can be used for appending True values to a list, which you can then use len() on as your return value."
   ]
  },
  {
   "cell_type": "code",
   "execution_count": 94,
   "id": "20115843-7967-4c31-8c80-cb8de92b5053",
   "metadata": {},
   "outputs": [
    {
     "name": "stdout",
     "output_type": "stream",
     "text": [
      "None\n"
     ]
    }
   ],
   "source": [
    "def count_duplicates(d):\n",
    "    duplicates = df_stations['City'].duplicated()\n",
    "    for x in duplicates:\n",
    "        if x == True:\n",
    "             duplicates.add(1)\n",
    "        else:\n",
    "            pass\n",
    "num_duplicates=count_duplicates(duplicates)\n",
    "print(num_duplicates)"
   ]
  },
  {
   "cell_type": "markdown",
   "id": "b974ea80-d26a-47f5-a6aa-438d1a08e79e",
   "metadata": {},
   "source": [
    "14. 📝 How many duplicates are there in the Cities field of df_stations? produce the result in the code below."
   ]
  },
  {
   "cell_type": "code",
   "execution_count": null,
   "id": "0eb2c799-4ea5-41b3-a663-65221d3807b8",
   "metadata": {},
   "outputs": [],
   "source": [
    "I dont know..."
   ]
  },
  {
   "cell_type": "markdown",
   "id": "bdc074f5-4d56-4148-804c-8c111aadb8f1",
   "metadata": {},
   "source": [
    "## Merging at last!"
   ]
  },
  {
   "cell_type": "markdown",
   "id": "496a3a32-ab95-4e74-a10b-f52d91697937",
   "metadata": {},
   "source": [
    "Now that you are certain there are no duplicates, you can feel confident about merging these tables. \n",
    "\n",
    "15. 📝 Finally, use the documentation (links) provided above (under the **Merging dataframes** title) to perform this merge. You can also use Google if you need other resources. You will need to do your own research here. However, the task shouldn't be too complex, and you shouldn't have to use too many of the optional parameters (keyword arguments) that the merge method provides. Assign your merged data to a dataframe called *df_stations_locs*."
   ]
  },
  {
   "cell_type": "code",
   "execution_count": 18,
   "id": "3c199556-fe55-465a-86d3-91b52125d89d",
   "metadata": {},
   "outputs": [
    {
     "data": {
      "text/html": [
       "<div>\n",
       "<style scoped>\n",
       "    .dataframe tbody tr th:only-of-type {\n",
       "        vertical-align: middle;\n",
       "    }\n",
       "\n",
       "    .dataframe tbody tr th {\n",
       "        vertical-align: top;\n",
       "    }\n",
       "\n",
       "    .dataframe thead th {\n",
       "        text-align: right;\n",
       "    }\n",
       "</style>\n",
       "<table border=\"1\" class=\"dataframe\">\n",
       "  <thead>\n",
       "    <tr style=\"text-align: right;\">\n",
       "      <th></th>\n",
       "      <th>StaType</th>\n",
       "      <th>StnType</th>\n",
       "      <th></th>\n",
       "      <th>City</th>\n",
       "      <th>Address1</th>\n",
       "      <th>Code</th>\n",
       "      <th>StationNam</th>\n",
       "      <th>X</th>\n",
       "      <th>Y</th>\n",
       "    </tr>\n",
       "  </thead>\n",
       "  <tbody>\n",
       "    <tr>\n",
       "      <th>0</th>\n",
       "      <td>Station Building (with waiting room)</td>\n",
       "      <td>BUS</td>\n",
       "      <td>MI48801</td>\n",
       "      <td>Alma</td>\n",
       "      <td>1105 Willow Run Drive</td>\n",
       "      <td>AAM</td>\n",
       "      <td>Alma, MI</td>\n",
       "      <td>-84.644837</td>\n",
       "      <td>43.391728</td>\n",
       "    </tr>\n",
       "    <tr>\n",
       "      <th>1</th>\n",
       "      <td>Curbside Bus Stop only (no shelter)</td>\n",
       "      <td>BUS</td>\n",
       "      <td>NY12211</td>\n",
       "      <td>Albany</td>\n",
       "      <td>737 Albany Shaker Road</td>\n",
       "      <td>ABA</td>\n",
       "      <td>Albany, NY</td>\n",
       "      <td>-73.809186</td>\n",
       "      <td>42.744500</td>\n",
       "    </tr>\n",
       "    <tr>\n",
       "      <th>2</th>\n",
       "      <td>Curbside Bus Stop only (no shelter)</td>\n",
       "      <td>BUS</td>\n",
       "      <td>WI54421</td>\n",
       "      <td>Colby</td>\n",
       "      <td>1210 North Division St.</td>\n",
       "      <td>ABB</td>\n",
       "      <td>Abbotsford-Colby, WI</td>\n",
       "      <td>-90.314674</td>\n",
       "      <td>44.928561</td>\n",
       "    </tr>\n",
       "    <tr>\n",
       "      <th>3</th>\n",
       "      <td>Station Building (with waiting room)</td>\n",
       "      <td>TRAIN</td>\n",
       "      <td>MD21001</td>\n",
       "      <td>Aberdeen</td>\n",
       "      <td>18 East Bel Air Avenue</td>\n",
       "      <td>ABE</td>\n",
       "      <td>Aberdeen, MD</td>\n",
       "      <td>-76.163262</td>\n",
       "      <td>39.508455</td>\n",
       "    </tr>\n",
       "    <tr>\n",
       "      <th>4</th>\n",
       "      <td>Station Building (with waiting room)</td>\n",
       "      <td>TRAIN</td>\n",
       "      <td>NM87102</td>\n",
       "      <td>Albuquerque</td>\n",
       "      <td>320 1st Street SW</td>\n",
       "      <td>ABQ</td>\n",
       "      <td>Albuquerque, NM</td>\n",
       "      <td>-106.647985</td>\n",
       "      <td>35.082067</td>\n",
       "    </tr>\n",
       "  </tbody>\n",
       "</table>\n",
       "</div>"
      ],
      "text/plain": [
       "                                StaType StnType                  City  \\\n",
       "0  Station Building (with waiting room)     BUS  MI48801         Alma   \n",
       "1   Curbside Bus Stop only (no shelter)     BUS  NY12211       Albany   \n",
       "2   Curbside Bus Stop only (no shelter)     BUS  WI54421        Colby   \n",
       "3  Station Building (with waiting room)   TRAIN  MD21001     Aberdeen   \n",
       "4  Station Building (with waiting room)   TRAIN  NM87102  Albuquerque   \n",
       "\n",
       "                  Address1 Code            StationNam           X          Y  \n",
       "0    1105 Willow Run Drive  AAM              Alma, MI  -84.644837  43.391728  \n",
       "1   737 Albany Shaker Road  ABA            Albany, NY  -73.809186  42.744500  \n",
       "2  1210 North Division St.  ABB  Abbotsford-Colby, WI  -90.314674  44.928561  \n",
       "3   18 East Bel Air Avenue  ABE          Aberdeen, MD  -76.163262  39.508455  \n",
       "4        320 1st Street SW  ABQ       Albuquerque, NM -106.647985  35.082067  "
      ]
     },
     "execution_count": 18,
     "metadata": {},
     "output_type": "execute_result"
    }
   ],
   "source": [
    "stations_locs = pd.merge(df_stations, df_locs, on=\"Code\")\n",
    "\n",
    "stations_locs.head()"
   ]
  },
  {
   "cell_type": "markdown",
   "id": "a3bc598a-315b-4e50-8025-c2a6803477dc",
   "metadata": {},
   "source": [
    "---"
   ]
  },
  {
   "cell_type": "markdown",
   "id": "29ea8dab-93ac-4139-a872-bb878b276124",
   "metadata": {},
   "source": [
    "Once you are finished, from the toolbar at the top of Jupyter lab, click Kernel > **Restart Kernel and Clear All Outputs...**. Once the notebook has completed rebooting, click Run > **Run All Cells**. Make sure that all your code runs properly, and produces your merged table at the end."
   ]
  },
  {
   "cell_type": "markdown",
   "id": "6c27f2b6-f6aa-4628-ba14-6252924f6d9e",
   "metadata": {},
   "source": [
    "---"
   ]
  },
  {
   "cell_type": "markdown",
   "id": "b92ebda3-a4e1-48a9-9f1e-a09fd74ca780",
   "metadata": {},
   "source": [
    "Fed up with being an intermediary between your supervisor's lousy data and the pesky mapping interns, you decide to take on greater challenges. You can do the mapping, and you can find quality data for doing so. Further, you have ambitions: you want to explore more interesting data that you can analyze and do research with. You pack up your bags, cross the border, and move to Montreal (on an Amtrak train)!"
   ]
  },
  {
   "cell_type": "markdown",
   "id": "6c5eddf4-c8a9-4091-87ee-7f24345ec22d",
   "metadata": {},
   "source": [
    "# Deliverables\n",
    "\n",
    "Complete the questions in this notebook and make sure all your code runs, then push your notebook to your repo.\n",
    "You will need to push the modified notebook to your repo. Make sure of the following:\n",
    "- You have answered all questions and fulfilled all tasks\n",
    "- Each of your code cells run properly and in order"
   ]
  },
  {
   "cell_type": "markdown",
   "id": "d396a692-94e9-4262-aba7-8fb40f94ca6a",
   "metadata": {},
   "source": [
    "This was the last of the introductory labs. You should so far be able to write basic python code and have a beginner's knowledge of pandas. Next week, we will dive a little deeper into pandas and start mapping our data!"
   ]
  }
 ],
 "metadata": {
  "kernelspec": {
   "display_name": "Python 3 (ipykernel)",
   "language": "python",
   "name": "python3"
  },
  "language_info": {
   "codemirror_mode": {
    "name": "ipython",
    "version": 3
   },
   "file_extension": ".py",
   "mimetype": "text/x-python",
   "name": "python",
   "nbconvert_exporter": "python",
   "pygments_lexer": "ipython3",
   "version": "3.7.9"
  }
 },
 "nbformat": 4,
 "nbformat_minor": 5
}
